{
 "cells": [
  {
   "cell_type": "code",
   "execution_count": 5,
   "metadata": {},
   "outputs": [],
   "source": [
    "import numpy as np\n",
    "import os"
   ]
  },
  {
   "cell_type": "code",
   "execution_count": 2,
   "metadata": {},
   "outputs": [],
   "source": [
    "IMAGE_DIR = './images/'\n",
    "ANNOTATION_DIR = './annotations/json/'"
   ]
  },
  {
   "cell_type": "code",
   "execution_count": 6,
   "metadata": {},
   "outputs": [],
   "source": [
    "images = [IMAGE_DIR + x for x in os.listdir(IMAGE_DIR)]\n",
    "images.sort()\n"
   ]
  },
  {
   "cell_type": "code",
   "execution_count": 7,
   "metadata": {},
   "outputs": [],
   "source": [
    "annotations = [ANNOTATION_DIR + x for x in os.listdir(ANNOTATION_DIR)]\n",
    "annotations.sort()"
   ]
  },
  {
   "cell_type": "code",
   "execution_count": 21,
   "metadata": {},
   "outputs": [],
   "source": [
    "kl=[]\n",
    "for annotation in (annotations):\n",
    "    l=(annotation.split(\"/\")[-1].split(\".\")[0])\n",
    "    with open(annotation) as f:\n",
    "        data = json.load(f)\n",
    "        \n",
    "    for i in data:\n",
    "        kl.append([l,i[\"name\"],i[\"bndbox\"][\"xmin\"],i[\"bndbox\"][\"ymin\"],i[\"bndbox\"][\"xmax\"],i[\"bndbox\"][\"ymax\"]])"
   ]
  },
  {
   "cell_type": "code",
   "execution_count": 23,
   "metadata": {},
   "outputs": [],
   "source": [
    "import pandas as pd\n",
    "df=pd.DataFrame(kl,columns=[\"doc_id\",\"name\",\"xmin\",\"ymin\",\"xmax\",\"ymax\"])"
   ]
  },
  {
   "cell_type": "code",
   "execution_count": 24,
   "metadata": {},
   "outputs": [
    {
     "data": {
      "text/html": [
       "<div>\n",
       "<style scoped>\n",
       "    .dataframe tbody tr th:only-of-type {\n",
       "        vertical-align: middle;\n",
       "    }\n",
       "\n",
       "    .dataframe tbody tr th {\n",
       "        vertical-align: top;\n",
       "    }\n",
       "\n",
       "    .dataframe thead th {\n",
       "        text-align: right;\n",
       "    }\n",
       "</style>\n",
       "<table border=\"1\" class=\"dataframe\">\n",
       "  <thead>\n",
       "    <tr style=\"text-align: right;\">\n",
       "      <th></th>\n",
       "      <th>doc_id</th>\n",
       "      <th>name</th>\n",
       "      <th>xmin</th>\n",
       "      <th>ymin</th>\n",
       "      <th>xmax</th>\n",
       "      <th>ymax</th>\n",
       "    </tr>\n",
       "  </thead>\n",
       "  <tbody>\n",
       "    <tr>\n",
       "      <th>0</th>\n",
       "      <td>0</td>\n",
       "      <td>height</td>\n",
       "      <td>953</td>\n",
       "      <td>406</td>\n",
       "      <td>1071</td>\n",
       "      <td>459</td>\n",
       "    </tr>\n",
       "    <tr>\n",
       "      <th>1</th>\n",
       "      <td>0</td>\n",
       "      <td>sex</td>\n",
       "      <td>950</td>\n",
       "      <td>369</td>\n",
       "      <td>1011</td>\n",
       "      <td>406</td>\n",
       "    </tr>\n",
       "    <tr>\n",
       "      <th>2</th>\n",
       "      <td>0</td>\n",
       "      <td>exp_date</td>\n",
       "      <td>609</td>\n",
       "      <td>416</td>\n",
       "      <td>811</td>\n",
       "      <td>454</td>\n",
       "    </tr>\n",
       "    <tr>\n",
       "      <th>3</th>\n",
       "      <td>0</td>\n",
       "      <td>issue_date</td>\n",
       "      <td>593</td>\n",
       "      <td>581</td>\n",
       "      <td>815</td>\n",
       "      <td>619</td>\n",
       "    </tr>\n",
       "    <tr>\n",
       "      <th>4</th>\n",
       "      <td>0</td>\n",
       "      <td>address</td>\n",
       "      <td>495</td>\n",
       "      <td>291</td>\n",
       "      <td>987</td>\n",
       "      <td>366</td>\n",
       "    </tr>\n",
       "    <tr>\n",
       "      <th>...</th>\n",
       "      <td>...</td>\n",
       "      <td>...</td>\n",
       "      <td>...</td>\n",
       "      <td>...</td>\n",
       "      <td>...</td>\n",
       "      <td>...</td>\n",
       "    </tr>\n",
       "    <tr>\n",
       "      <th>1572</th>\n",
       "      <td>99</td>\n",
       "      <td>name</td>\n",
       "      <td>230</td>\n",
       "      <td>185</td>\n",
       "      <td>317</td>\n",
       "      <td>221</td>\n",
       "    </tr>\n",
       "    <tr>\n",
       "      <th>1573</th>\n",
       "      <td>99</td>\n",
       "      <td>address</td>\n",
       "      <td>229</td>\n",
       "      <td>222</td>\n",
       "      <td>416</td>\n",
       "      <td>267</td>\n",
       "    </tr>\n",
       "    <tr>\n",
       "      <th>1574</th>\n",
       "      <td>99</td>\n",
       "      <td>eyes</td>\n",
       "      <td>274</td>\n",
       "      <td>266</td>\n",
       "      <td>300</td>\n",
       "      <td>284</td>\n",
       "    </tr>\n",
       "    <tr>\n",
       "      <th>1575</th>\n",
       "      <td>99</td>\n",
       "      <td>sex</td>\n",
       "      <td>266</td>\n",
       "      <td>278</td>\n",
       "      <td>284</td>\n",
       "      <td>300</td>\n",
       "    </tr>\n",
       "    <tr>\n",
       "      <th>1576</th>\n",
       "      <td>99</td>\n",
       "      <td>height</td>\n",
       "      <td>324</td>\n",
       "      <td>279</td>\n",
       "      <td>356</td>\n",
       "      <td>302</td>\n",
       "    </tr>\n",
       "  </tbody>\n",
       "</table>\n",
       "<p>1577 rows × 6 columns</p>\n",
       "</div>"
      ],
      "text/plain": [
       "     doc_id        name  xmin  ymin  xmax  ymax\n",
       "0         0      height   953   406  1071   459\n",
       "1         0         sex   950   369  1011   406\n",
       "2         0    exp_date   609   416   811   454\n",
       "3         0  issue_date   593   581   815   619\n",
       "4         0     address   495   291   987   366\n",
       "...     ...         ...   ...   ...   ...   ...\n",
       "1572     99        name   230   185   317   221\n",
       "1573     99     address   229   222   416   267\n",
       "1574     99        eyes   274   266   300   284\n",
       "1575     99         sex   266   278   284   300\n",
       "1576     99      height   324   279   356   302\n",
       "\n",
       "[1577 rows x 6 columns]"
      ]
     },
     "execution_count": 24,
     "metadata": {},
     "output_type": "execute_result"
    }
   ],
   "source": [
    "df"
   ]
  },
  {
   "cell_type": "code",
   "execution_count": null,
   "metadata": {},
   "outputs": [],
   "source": []
  }
 ],
 "metadata": {
  "kernelspec": {
   "display_name": "Python 3",
   "language": "python",
   "name": "python3"
  },
  "language_info": {
   "codemirror_mode": {
    "name": "ipython",
    "version": 3
   },
   "file_extension": ".py",
   "mimetype": "text/x-python",
   "name": "python",
   "nbconvert_exporter": "python",
   "pygments_lexer": "ipython3",
   "version": "3.6.2"
  }
 },
 "nbformat": 4,
 "nbformat_minor": 2
}
